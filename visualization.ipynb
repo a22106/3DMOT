{
 "cells": [
  {
   "cell_type": "code",
   "execution_count": 2,
   "metadata": {},
   "outputs": [],
   "source": [
    "import cv2\n",
    "import os\n",
    "import glob\n",
    "import numpy as np\n",
    "import matplotlib.pyplot as plt"
   ]
  },
  {
   "cell_type": "code",
   "execution_count": 3,
   "metadata": {},
   "outputs": [],
   "source": [
    "# config\n",
    "image_folder = 'G:/내 드라이브/data/kittimot/tracking/testing/image_02'\n",
    "calib_folder = 'G:/내 드라이브/data/kittimot/tracking/testing/calib'\n",
    "calib_list = glob.glob(os.path.join(calib_folder, '*.txt'))\n",
    "\n",
    "seq = 0 # training: 0~20, testing: 0~28\n",
    "image_list = glob.glob(os.path.join(image_folder, f'{seq:04d}', '*.png'))\n",
    "yolo_result_folder = './results/yolov5_test'\n",
    "yolo_label_list = glob.glob(os.path.join(yolo_result_folder, '*.txt'))\n",
    "rrcCar_result_folder = './results/rrc_car_test'\n",
    "rrcCar_result_list = glob.glob(os.path.join(rrcCar_result_folder, '*.txt'))\n",
    "pointrcnn_result_folder_df = './results/pointrcnn_test/deepfusionmot/'\n",
    "pointrcnn_result_list_df = glob.glob(os.path.join(pointrcnn_result_folder_df, '*.txt'))\n",
    "pointrcnn_result_folder_pius = './results/pointrcnn_test/pius/'\n",
    "pointrcnn_result_list_pius = glob.glob(os.path.join(pointrcnn_result_folder_pius, '*.txt'))\n",
    "\n",
    "calib_list.sort()\n",
    "image_list.sort()\n",
    "yolo_label_list.sort()\n",
    "rrcCar_result_list.sort()\n",
    "pointrcnn_result_list_df.sort()\n",
    "pointrcnn_result_list_pius.sort()"
   ]
  },
  {
   "cell_type": "code",
   "execution_count": 4,
   "metadata": {},
   "outputs": [],
   "source": [
    "def load_label(label_list, seq):\n",
    "    with open(label_list[seq], 'r') as f:\n",
    "        label = f.read().splitlines()\n",
    "    label = np.array([x.split(',') for x in label])\n",
    "    return label"
   ]
  },
  {
   "cell_type": "markdown",
   "metadata": {},
   "source": [
    "# visualize 2D"
   ]
  },
  {
   "cell_type": "code",
   "execution_count": 5,
   "metadata": {},
   "outputs": [],
   "source": [
    "def make_rect(label, frame, sequence, dim = '2d'):\n",
    "    r'''\n",
    "    args:\n",
    "        label: 2d [frame, left, top, right, bottom, score], 3d [frame, id, left, top, right, bottom, score, h, w, l, x, y, z, r_y, alpha]\n",
    "        frame: frame number\n",
    "        sequence: sequence number\n",
    "        dim: '2d' or '3d'\n",
    "    '''\n",
    "    if not dim.lower() in ['2d', '3d']:\n",
    "        raise ValueError('dim should be 2d or 3d')\n",
    "    \n",
    "    if dim.lower() == '2d':\n",
    "        rect = np.array([x[1:5] for x in label if x[0] == f'{frame}'], dtype=np.float32)\n",
    "    elif dim.lower() == '3d':\n",
    "        rect = np.array([x[2:6] for x in label if x[0] == f'{frame}'], dtype=np.float32)\n",
    "    \n",
    "    return rect"
   ]
  },
  {
   "cell_type": "code",
   "execution_count": 6,
   "metadata": {},
   "outputs": [],
   "source": [
    "def draw_projected_box3d(image, qs, color=(255,255,255), thickness=2):\n",
    "    ''' Draw 3d bounding box in image\n",
    "        qs: (8,2) array of vertices for the 3d box in following order:\n",
    "            1 -------- 0\n",
    "           /|         /|\n",
    "          2 -------- 3 .\n",
    "          | |        | |\n",
    "          . 5 -------- 4\n",
    "          |/         |/\n",
    "          6 -------- 7\n",
    "    '''\n",
    "    if qs is not None:\n",
    "        qs = qs.astype(np.int32)\n",
    "        for k in range(0,4):\n",
    "           i,j=k,(k+1)%4\n",
    "           image = cv2.line(image, (qs[i,0],qs[i,1]), (qs[j,0],qs[j,1]), color, thickness) # use LINE_AA for opencv3\n",
    "\n",
    "           i,j=k+4,(k+1)%4 + 4\n",
    "           image = cv2.line(image, (qs[i,0],qs[i,1]), (qs[j,0],qs[j,1]), color, thickness)\n",
    "\n",
    "           i,j=k,k+4\n",
    "           image = cv2.line(image, (qs[i,0],qs[i,1]), (qs[j,0],qs[j,1]), color, thickness)\n",
    "    return image\n",
    "\n",
    "# cv2 image plt show method\n",
    "def imshow(title = \"Image\", image = None, size = 10, rect = None, corners_2d = None):\n",
    "    w, h = image.shape[0], image.shape[1]\n",
    "    aspect_ratio = w/h\n",
    "    img = cv2.cvtColor(image, cv2.COLOR_BGR2RGB)\n",
    "    \n",
    "    # draw 2d bbox\n",
    "    if rect is not None:\n",
    "        for r in rect:\n",
    "            img = cv2.rectangle(img, (int(r[0]), int(r[1])), (int(r[2]), int(r[3])), (0, 255, 0), 2)\n",
    "    \n",
    "    # draw 3d bbox\n",
    "    for corners in corners_2d:\n",
    "        image = draw_projected_box3d(image, corners, color = (255, 0, 0), thickness = 2)\n",
    "    \n",
    "    plt.figure(figsize=(size * aspect_ratio,size))\n",
    "    plt.imshow(img)\n",
    "    plt.axis( \"off\" )\n",
    "    plt.title(title)\n",
    "    plt.show()\n",
    "    \n",
    "def readLabel(label_path):\n",
    "    with open(label_path,  \"r\" ) as f:\n",
    "        label = f.read().splitlines()\n",
    "    return label\n",
    "\n",
    "def showkitti(idx: int, datasets, rect, split: str = \"test\", seq: int = None, frame: int = None):\n",
    "    r'''\n",
    "    args:\n",
    "        - idx(int): index of the image\n",
    "        - datasets(str): \"kitti\" or \"kittimot\"\n",
    "        - split(str): test\n",
    "        - seq(int): sequence number train: 0 ~ 20, test: 0 ~ 28\n",
    "        - frame(int): frame number\n",
    "    '''\n",
    "    \n",
    "    SPLIT = {\"train\": \"training\", \"test\": \"testing\"}\n",
    "    \n",
    "    if datasets == \"kitti\":\n",
    "        kitti_path = f\"/data/hwang/datasetss/{datasets}\" # your kitti path\n",
    "        image_list = glob(os.path.join(kitti_path, SPLIT[split], \"image_2\", \"*.png\"))\n",
    "        image_list.sort()\n",
    "        label_list = glob(os.path.join(kitti_path, SPLIT[split], \"label_2\", \"*.txt\"))\n",
    "        label_list.sort()\n",
    "\n",
    "        label = np.array([x.split(' ') for x in readLabel(label_list[idx]) if not x[:4] == 'Dont']).reshape(-1, 15)\n",
    "        rect = np.array([x[4:8].astype(np.float32) for x in label])\n",
    "\n",
    "        imshow(\"Image\", cv2.imread(image_list[idx]), size = 30, rect=rect)\n",
    "        print(label)\n",
    "        \n",
    "    elif datasets == \"kittimot\":\n",
    "        kitti_path = f\"/data/hwang/datasetss/{datasets}\" # your kittimot path\n",
    "        \n",
    "        image_list = glob(os.path.join(kitti_path, SPLIT[split], \"image_02\",f'{seq:04d}', \"*.png\"))\n",
    "        label_list = glob(os.path.join(kitti_path, SPLIT[split], \"label_02\", \"*.txt\"))\n",
    "        image_list.sort()\n",
    "        label_list.sort()\n",
    "        \n",
    "        try:\n",
    "            label = np.array([x.split(' ') for x in readLabel(label_list[seq])]).reshape(-1, 17)\n",
    "        except:\n",
    "            print(\"not enough arguments\")\n",
    "        \n",
    "        rect = np.array([x[6:10].astype(np.float32) for x in label if x[0] == f'{frame}' and x[2] != 'DontCare'])\n",
    "        imshow(\"Image\", cv2.imread(image_list[frame]), size = 30, rect=rect)\n",
    "        for l in label:\n",
    "            if l[0] == str(frame) and l[2] != \"DontCare\":\n",
    "                print(l)"
   ]
  },
  {
   "cell_type": "code",
   "execution_count": 7,
   "metadata": {},
   "outputs": [],
   "source": [
    "# pointrcnn label\n",
    "yolo_label = load_label(yolo_label_list, seq)\n",
    "pointrcnn_label = load_label(pointrcnn_result_list_df, seq)\n",
    "pointrcnn_label_pius = load_label(pointrcnn_result_list_pius, seq)"
   ]
  },
  {
   "cell_type": "code",
   "execution_count": 8,
   "metadata": {},
   "outputs": [],
   "source": [
    "seq = 0\n",
    "frame = 0\n",
    "image = cv2.imread(image_list[frame])\n",
    "rect_2d = make_rect(yolo_label, 0, 0, dim='2d')\n",
    "rect_3d_df = make_rect(pointrcnn_label, 0, 0, dim='3d')\n",
    "rect_3d_pius = make_rect(pointrcnn_label_pius, 0, 0, dim='3d')"
   ]
  },
  {
   "cell_type": "code",
   "execution_count": 9,
   "metadata": {},
   "outputs": [
    {
     "ename": "TypeError",
     "evalue": "'NoneType' object is not iterable",
     "output_type": "error",
     "traceback": [
      "\u001b[1;31m---------------------------------------------------------------------------\u001b[0m",
      "\u001b[1;31mTypeError\u001b[0m                                 Traceback (most recent call last)",
      "\u001b[1;32mc:\\Users\\bk221\\OneDrive\\C Documents\\GitHub\\3DMOT\\visualization.ipynb 셀 9\u001b[0m in \u001b[0;36m<cell line: 1>\u001b[1;34m()\u001b[0m\n\u001b[1;32m----> <a href='vscode-notebook-cell:/c%3A/Users/bk221/OneDrive/C%20Documents/GitHub/3DMOT/visualization.ipynb#X11sZmlsZQ%3D%3D?line=0'>1</a>\u001b[0m imshow(\u001b[39m\"\u001b[39;49m\u001b[39mImage\u001b[39;49m\u001b[39m\"\u001b[39;49m, image, size \u001b[39m=\u001b[39;49m \u001b[39m40\u001b[39;49m, rect\u001b[39m=\u001b[39;49mrect_3d_df)\n\u001b[0;32m      <a href='vscode-notebook-cell:/c%3A/Users/bk221/OneDrive/C%20Documents/GitHub/3DMOT/visualization.ipynb#X11sZmlsZQ%3D%3D?line=1'>2</a>\u001b[0m imshow(\u001b[39m\"\u001b[39m\u001b[39mImage\u001b[39m\u001b[39m\"\u001b[39m, image, size \u001b[39m=\u001b[39m \u001b[39m40\u001b[39m, rect\u001b[39m=\u001b[39mrect_3d_pius)\n",
      "\u001b[1;32mc:\\Users\\bk221\\OneDrive\\C Documents\\GitHub\\3DMOT\\visualization.ipynb 셀 9\u001b[0m in \u001b[0;36mimshow\u001b[1;34m(title, image, size, rect, corners_2d)\u001b[0m\n\u001b[0;32m     <a href='vscode-notebook-cell:/c%3A/Users/bk221/OneDrive/C%20Documents/GitHub/3DMOT/visualization.ipynb#X11sZmlsZQ%3D%3D?line=33'>34</a>\u001b[0m         img \u001b[39m=\u001b[39m cv2\u001b[39m.\u001b[39mrectangle(img, (\u001b[39mint\u001b[39m(r[\u001b[39m0\u001b[39m]), \u001b[39mint\u001b[39m(r[\u001b[39m1\u001b[39m])), (\u001b[39mint\u001b[39m(r[\u001b[39m2\u001b[39m]), \u001b[39mint\u001b[39m(r[\u001b[39m3\u001b[39m])), (\u001b[39m0\u001b[39m, \u001b[39m255\u001b[39m, \u001b[39m0\u001b[39m), \u001b[39m2\u001b[39m)\n\u001b[0;32m     <a href='vscode-notebook-cell:/c%3A/Users/bk221/OneDrive/C%20Documents/GitHub/3DMOT/visualization.ipynb#X11sZmlsZQ%3D%3D?line=35'>36</a>\u001b[0m \u001b[39m# draw 3d bbox\u001b[39;00m\n\u001b[1;32m---> <a href='vscode-notebook-cell:/c%3A/Users/bk221/OneDrive/C%20Documents/GitHub/3DMOT/visualization.ipynb#X11sZmlsZQ%3D%3D?line=36'>37</a>\u001b[0m \u001b[39mfor\u001b[39;00m corners \u001b[39min\u001b[39;00m corners_2d:\n\u001b[0;32m     <a href='vscode-notebook-cell:/c%3A/Users/bk221/OneDrive/C%20Documents/GitHub/3DMOT/visualization.ipynb#X11sZmlsZQ%3D%3D?line=37'>38</a>\u001b[0m     image \u001b[39m=\u001b[39m draw_projected_box3d(image, corners, color \u001b[39m=\u001b[39m (\u001b[39m255\u001b[39m, \u001b[39m0\u001b[39m, \u001b[39m0\u001b[39m), thickness \u001b[39m=\u001b[39m \u001b[39m2\u001b[39m)\n\u001b[0;32m     <a href='vscode-notebook-cell:/c%3A/Users/bk221/OneDrive/C%20Documents/GitHub/3DMOT/visualization.ipynb#X11sZmlsZQ%3D%3D?line=39'>40</a>\u001b[0m plt\u001b[39m.\u001b[39mfigure(figsize\u001b[39m=\u001b[39m(size \u001b[39m*\u001b[39m aspect_ratio,size))\n",
      "\u001b[1;31mTypeError\u001b[0m: 'NoneType' object is not iterable"
     ]
    }
   ],
   "source": [
    "imshow(\"Image\", image, size = 40, rect=rect_3d_df)\n",
    "imshow(\"Image\", image, size = 40, rect=rect_3d_pius)"
   ]
  },
  {
   "cell_type": "markdown",
   "metadata": {},
   "source": [
    "# visualize 3D boxes on 2D image"
   ]
  },
  {
   "cell_type": "code",
   "execution_count": null,
   "metadata": {},
   "outputs": [],
   "source": [
    "import cv2, random\n",
    "from PIL import Image\n",
    "from datasets.coordinate_transformation import *\n",
    "\n",
    "MAX_COLOR = 30\n",
    "SCORE_THRESHOLD = -10000\n",
    "WIDTH = 1242\n",
    "HEIGHT = 374"
   ]
  },
  {
   "cell_type": "code",
   "execution_count": null,
   "metadata": {},
   "outputs": [],
   "source": [
    "def draw_projected_box3d(image, qs, color=(255,255,255), thickness=2):\n",
    "    ''' Draw 3d bounding box in image\n",
    "        qs: (8,2) array of vertices for the 3d box in following order:\n",
    "            1 -------- 0\n",
    "           /|         /|\n",
    "          2 -------- 3 .\n",
    "          | |        | |\n",
    "          . 5 -------- 4\n",
    "          |/         |/\n",
    "          6 -------- 7\n",
    "    '''\n",
    "    if qs is not None:\n",
    "        qs = qs.astype(np.int32)\n",
    "        for k in range(0,4):\n",
    "           i,j=k,(k+1)%4\n",
    "           image = cv2.line(image, (qs[i,0],qs[i,1]), (qs[j,0],qs[j,1]), color, thickness) # use LINE_AA for opencv3\n",
    "\n",
    "           i,j=k+4,(k+1)%4 + 4\n",
    "           image = cv2.line(image, (qs[i,0],qs[i,1]), (qs[j,0],qs[j,1]), color, thickness)\n",
    "\n",
    "           i,j=k,k+4\n",
    "           image = cv2.line(image, (qs[i,0],qs[i,1]), (qs[j,0],qs[j,1]), color, thickness)\n",
    "    return image"
   ]
  },
  {
   "cell_type": "code",
   "execution_count": null,
   "metadata": {},
   "outputs": [],
   "source": [
    "pointrcnn_bbox3d = np.array([x[7:].astype(np.float32) for x in pointrcnn_label if x[0] == f'{frame}'])\n",
    "calib_file = calib_list[seq]\n",
    "corners_2d = []\n",
    "for bbox3d in pointrcnn_bbox3d:\n",
    "    corners_2d.append(compute_box_3dto2d(bbox3d, calib_file)[0])\n",
    "corners_2d = np.array(corners_2d)"
   ]
  },
  {
   "cell_type": "code",
   "execution_count": 10,
   "metadata": {},
   "outputs": [
    {
     "ename": "NameError",
     "evalue": "name 'corners_2d' is not defined",
     "output_type": "error",
     "traceback": [
      "\u001b[1;31m---------------------------------------------------------------------------\u001b[0m",
      "\u001b[1;31mNameError\u001b[0m                                 Traceback (most recent call last)",
      "\u001b[1;32mc:\\Users\\bk221\\OneDrive\\C Documents\\GitHub\\3DMOT\\visualization.ipynb 셀 14\u001b[0m in \u001b[0;36m<cell line: 11>\u001b[1;34m()\u001b[0m\n\u001b[0;32m      <a href='vscode-notebook-cell:/c%3A/Users/bk221/OneDrive/C%20Documents/GitHub/3DMOT/visualization.ipynb#X16sZmlsZQ%3D%3D?line=0'>1</a>\u001b[0m \u001b[39m# image = cv2.imread(image_list[frame])\u001b[39;00m\n\u001b[0;32m      <a href='vscode-notebook-cell:/c%3A/Users/bk221/OneDrive/C%20Documents/GitHub/3DMOT/visualization.ipynb#X16sZmlsZQ%3D%3D?line=1'>2</a>\u001b[0m \u001b[39m# for corners in corners_2d:\u001b[39;00m\n\u001b[0;32m      <a href='vscode-notebook-cell:/c%3A/Users/bk221/OneDrive/C%20Documents/GitHub/3DMOT/visualization.ipynb#X16sZmlsZQ%3D%3D?line=2'>3</a>\u001b[0m \u001b[39m#     image = draw_projected_box3d(image, corners, color = (0, 255, 0), thickness = 2)\u001b[39;00m\n\u001b[1;32m   (...)\u001b[0m\n\u001b[0;32m      <a href='vscode-notebook-cell:/c%3A/Users/bk221/OneDrive/C%20Documents/GitHub/3DMOT/visualization.ipynb#X16sZmlsZQ%3D%3D?line=7'>8</a>\u001b[0m \u001b[39m# plt.axis('off')\u001b[39;00m\n\u001b[0;32m      <a href='vscode-notebook-cell:/c%3A/Users/bk221/OneDrive/C%20Documents/GitHub/3DMOT/visualization.ipynb#X16sZmlsZQ%3D%3D?line=8'>9</a>\u001b[0m \u001b[39m# plt.show()\u001b[39;00m\n\u001b[1;32m---> <a href='vscode-notebook-cell:/c%3A/Users/bk221/OneDrive/C%20Documents/GitHub/3DMOT/visualization.ipynb#X16sZmlsZQ%3D%3D?line=10'>11</a>\u001b[0m imshow(\u001b[39m\"\u001b[39m\u001b[39mVisualize 3dbbox with kitti gt\u001b[39m\u001b[39m\"\u001b[39m, image, size \u001b[39m=\u001b[39m \u001b[39m20\u001b[39m, corners_2d\u001b[39m=\u001b[39mcorners_2d)\n",
      "\u001b[1;31mNameError\u001b[0m: name 'corners_2d' is not defined"
     ]
    }
   ],
   "source": [
    "# image = cv2.imread(image_list[frame])\n",
    "# for corners in corners_2d:\n",
    "#     image = draw_projected_box3d(image, corners, color = (0, 255, 0), thickness = 2)\n",
    "\n",
    "# plt.figure(figsize=(10, 10))\n",
    "# plt.imshow(cv2.cvtColor(image, cv2.COLOR_BGR2RGB))\n",
    "# plt.title(\"visualize with kitti gt\")\n",
    "# plt.axis('off')\n",
    "# plt.show()\n",
    "\n",
    "imshow(\"Visualize 3dbbox with kitti gt\", image, size = 20, corners_2d=corners_2d)"
   ]
  },
  {
   "cell_type": "code",
   "execution_count": null,
   "metadata": {},
   "outputs": [],
   "source": []
  },
  {
   "cell_type": "markdown",
   "metadata": {},
   "source": [
    "# Visualize 3D boxes on 3D point cloud"
   ]
  },
  {
   "cell_type": "code",
   "execution_count": 36,
   "metadata": {},
   "outputs": [],
   "source": [
    "import open3d as o3d\n"
   ]
  },
  {
   "cell_type": "code",
   "execution_count": null,
   "metadata": {},
   "outputs": [],
   "source": []
  },
  {
   "cell_type": "markdown",
   "metadata": {},
   "source": [
    "# calculate alpha"
   ]
  },
  {
   "cell_type": "code",
   "execution_count": 35,
   "metadata": {},
   "outputs": [
    {
     "ename": "NameError",
     "evalue": "name 'null' is not defined",
     "output_type": "error",
     "traceback": [
      "\u001b[1;31m---------------------------------------------------------------------------\u001b[0m",
      "\u001b[1;31mNameError\u001b[0m                                 Traceback (most recent call last)",
      "\u001b[1;32mc:\\Users\\bk221\\OneDrive\\C Documents\\GitHub\\3DMOT\\visualization.ipynb 셀 18\u001b[0m in \u001b[0;36m<cell line: 1>\u001b[1;34m()\u001b[0m\n\u001b[1;32m----> <a href='vscode-notebook-cell:/c%3A/Users/bk221/OneDrive/C%20Documents/GitHub/3DMOT/visualization.ipynb#X32sZmlsZQ%3D%3D?line=0'>1</a>\u001b[0m null\n",
      "\u001b[1;31mNameError\u001b[0m: name 'null' is not defined"
     ]
    }
   ],
   "source": [
    "null"
   ]
  },
  {
   "cell_type": "code",
   "execution_count": 29,
   "metadata": {},
   "outputs": [
    {
     "data": {
      "text/plain": [
       "-1.818032754845337"
      ]
     },
     "execution_count": 29,
     "metadata": {},
     "output_type": "execute_result"
    }
   ],
   "source": [
    "import math\n",
    "\n",
    "class obj(object):\n",
    "    def __init__(self, result3d =  None, label = None):\n",
    "        if label is not None:\n",
    "            self.frame = int(label[0])\n",
    "            self.type = int(label[1])\n",
    "            self.h = float(label[7])\n",
    "            self.w = float(label[8])\n",
    "            self.l = float(label[9])\n",
    "            self.x = float(label[10])\n",
    "            self.y = float(label[11])\n",
    "            self.z = float(label[12])\n",
    "            self.ry = float(label[13])\n",
    "        elif result3d is not None:\n",
    "            result3d = self.splitObjComponents(result3d)\n",
    "            self.frame = int(result3d[0])\n",
    "            self.type = int(result3d[1]) # 1: ped, 2: car, 3: cyclist\n",
    "            self.h = float(result3d[2])\n",
    "            self.w = float(result3d[3])\n",
    "            self.l = float(result3d[4])\n",
    "            self.x = float(result3d[5])\n",
    "            self.y = float(result3d[6])\n",
    "            self.z = float(result3d[7])\n",
    "            self.ry = float(result3d[8])\n",
    "            self.alpha = float(result3d[9])\n",
    "    \n",
    "    def splitObjComponents(self, result3d):\n",
    "        result3d = result3d.split(\",\")\n",
    "        return result3d\n",
    "      \n",
    "\n",
    "def normalizeAngle(angle):\n",
    "    result = angle % (2*math.pi)\n",
    "    if result < -math.pi:\n",
    "        result += 2*math.pi\n",
    "    elif result > math.pi:\n",
    "        result -= 2*math.pi\n",
    "    return result\n",
    "\n",
    "def cal_alpha_ori(obj: obj):  \n",
    "    alpha = obj.ry\n",
    "    alpha -= -math.atan2(obj.z, obj.x) -1.5*math.pi \n",
    "    alpha = normalizeAngle(alpha)\n",
    "    return alpha # -1.818032754845337\n",
    "\n",
    "# frame, type, h, w, l, x, y, z, yaw, alpha\n",
    "obj1 = obj(result3d=\"0,2,1.5599,1.5848,3.4791,2.5702,1.5720,9.7190,-1.5595,-1.8180\")\n",
    "cal_alpha_ori(obj1)"
   ]
  },
  {
   "cell_type": "code",
   "execution_count": 30,
   "metadata": {},
   "outputs": [
    {
     "name": "stdout",
     "output_type": "stream",
     "text": [
      "['0' '2' '679.6621' '174.1462' '795.2264' '260.7374' '12.8676' '1.5694'\n",
      " '1.6609' '4.1846' '2.4745' '1.6008' '15.2377' '-1.5807' '-1.7417']\n"
     ]
    },
    {
     "data": {
      "text/plain": [
       "-1.7416879230707938"
      ]
     },
     "execution_count": 30,
     "metadata": {},
     "output_type": "execute_result"
    }
   ],
   "source": [
    "idx = 1\n",
    "obj2 = obj(label=pointrcnn_label[idx])\n",
    "print(pointrcnn_label[idx])\n",
    "cal_alpha_ori(obj2)"
   ]
  },
  {
   "cell_type": "code",
   "execution_count": 31,
   "metadata": {},
   "outputs": [],
   "source": [
    "def save_label(label, save_path):\n",
    "    with open(os.path.join(save_path), \"w\") as f:\n",
    "        for line in label:\n",
    "            f.write(\",\".join([str(i) for i in line]) + \"\\n\")"
   ]
  },
  {
   "cell_type": "code",
   "execution_count": 32,
   "metadata": {},
   "outputs": [
    {
     "ename": "NameError",
     "evalue": "name 'null' is not defined",
     "output_type": "error",
     "traceback": [
      "\u001b[1;31m---------------------------------------------------------------------------\u001b[0m",
      "\u001b[1;31mNameError\u001b[0m                                 Traceback (most recent call last)",
      "\u001b[1;32mc:\\Users\\bk221\\OneDrive\\C Documents\\GitHub\\3DMOT\\visualization.ipynb 셀 21\u001b[0m in \u001b[0;36m<cell line: 1>\u001b[1;34m()\u001b[0m\n\u001b[1;32m----> <a href='vscode-notebook-cell:/c%3A/Users/bk221/OneDrive/C%20Documents/GitHub/3DMOT/visualization.ipynb#X25sZmlsZQ%3D%3D?line=0'>1</a>\u001b[0m null\n",
      "\u001b[1;31mNameError\u001b[0m: name 'null' is not defined"
     ]
    }
   ],
   "source": [
    "null"
   ]
  },
  {
   "cell_type": "markdown",
   "metadata": {},
   "source": [
    "# fix all pius results"
   ]
  },
  {
   "cell_type": "code",
   "execution_count": null,
   "metadata": {},
   "outputs": [],
   "source": [
    "# fix all pius results\n",
    "for seq, result_file in enumerate(pointrcnn_result_list_pius):\n",
    "    pointrcnn_label_pius = load_label(pointrcnn_result_list_pius, seq)\n",
    "    pointrcnn_label_pius = pointrcnn_label_pius[:, [0, 1, 2, 3, 4, 5, 13, 6, 7, 8, 9, 10, 11, 12]]\n",
    "    pointrcnn_label_pius = np.insert(pointrcnn_label_pius, 14, 0, axis=1)\n",
    "    \n",
    "    # calculate alpha and change pointrcnn_label_pius's 14th column\n",
    "    for idx, label in enumerate(pointrcnn_label_pius):\n",
    "        pointrcnn_label_pius[idx][14] = cal_alpha_ori(obj(label=label))\n",
    "    \n",
    "    save_label(pointrcnn_label_pius, save_path=result_file)"
   ]
  }
 ],
 "metadata": {
  "kernelspec": {
   "display_name": "Python 3.8.13 ('3dmot')",
   "language": "python",
   "name": "python3"
  },
  "language_info": {
   "codemirror_mode": {
    "name": "ipython",
    "version": 3
   },
   "file_extension": ".py",
   "mimetype": "text/x-python",
   "name": "python",
   "nbconvert_exporter": "python",
   "pygments_lexer": "ipython3",
   "version": "3.8.13"
  },
  "orig_nbformat": 4,
  "vscode": {
   "interpreter": {
    "hash": "cf06136519c352c708f070873313074ead73293c4fa1dcc1b2822eebbe1ebdaf"
   }
  }
 },
 "nbformat": 4,
 "nbformat_minor": 2
}
